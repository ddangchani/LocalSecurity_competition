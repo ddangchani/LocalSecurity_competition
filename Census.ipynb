{
 "cells": [
  {
   "attachments": {},
   "cell_type": "markdown",
   "metadata": {},
   "source": [
    "# Census data Preprocessing\n",
    "\n",
    "### Data Source : 통계지리정보서비스(https://sgis.kostat.go.kr/)"
   ]
  },
  {
   "cell_type": "code",
   "execution_count": 9,
   "metadata": {},
   "outputs": [],
   "source": [
    "import pandas as pd\n",
    "import numpy as np\n",
    "import geopandas as gpd\n",
    "import matplotlib.pyplot as plt\n",
    "import os\n",
    "from tqdm import tqdm\n",
    "import re"
   ]
  },
  {
   "cell_type": "code",
   "execution_count": 10,
   "metadata": {},
   "outputs": [
    {
     "name": "stderr",
     "output_type": "stream",
     "text": [
      "100%|██████████| 4/4 [01:40<00:00, 25.21s/it]"
     ]
    },
    {
     "name": "stdout",
     "output_type": "stream",
     "text": [
      "(3785474, 2)\n"
     ]
    },
    {
     "name": "stderr",
     "output_type": "stream",
     "text": [
      "\n"
     ]
    }
   ],
   "source": [
    "flderlist = os.listdir('data/CENSUS/Grid')\n",
    "flderlist.remove('.DS_Store') # Grid folder list\n",
    "\n",
    "# Unit(100M) 단위 격자 데이터 수집\n",
    "unit = '100M'\n",
    "\n",
    "grid = gpd.GeoDataFrame(columns = ['GRID_'+unit+'_','geometry'], crs='epsg:5179')\n",
    "for f in tqdm(flderlist):\n",
    "    filelist = os.listdir('data/CENSUS/Grid/'+f)\n",
    "    idx = np.where([re.search(unit+'.shp$', i) for i in filelist])[0][0]\n",
    "    filename = filelist[idx]\n",
    "    gdf = gpd.read_file('data/CENSUS/Grid/'+f+'/'+filename)\n",
    "    grid = pd.concat([grid, gdf], axis=0, ignore_index=True)\n",
    "print(grid.shape)"
   ]
  },
  {
   "cell_type": "code",
   "execution_count": 11,
   "metadata": {},
   "outputs": [
    {
     "name": "stdout",
     "output_type": "stream",
     "text": [
      "(410420, 3)\n"
     ]
    }
   ],
   "source": [
    "# 인구데이터 수집\n",
    "df = pd.DataFrame()\n",
    "censuslist = os.listdir('data/CENSUS')\n",
    "idxs = np.where([re.search(unit+'.txt$', i) for i in censuslist])[0]\n",
    "for i in idxs:\n",
    "    df_new = pd.read_table('data/CENSUS/'+censuslist[i], sep='^', header=None)\n",
    "    df_new.columns = ['YEAR','GRID','TYPE','COUNT']\n",
    "    df_new = df_new[['GRID','TYPE','COUNT']]\n",
    "    df_new = df_new.set_index(['GRID','TYPE']).stack().unstack(level=1)\n",
    "    df_new = df_new.reset_index(level=['GRID']).reset_index(drop=True)\n",
    "    df_new.index.name = None\n",
    "    df = pd.concat([df, df_new], ignore_index=True)\n",
    "\n",
    "df = df.set_index('GRID')\n",
    "df.index.name = None\n",
    "df.columns.name = None\n",
    "print(df.shape)"
   ]
  },
  {
   "attachments": {},
   "cell_type": "markdown",
   "metadata": {},
   "source": [
    "### 격자데이터와 지역데이터 병합\n",
    ": 대전, 세종지역만 포함하는 격자 처리"
   ]
  },
  {
   "cell_type": "code",
   "execution_count": 12,
   "metadata": {},
   "outputs": [
    {
     "name": "stdout",
     "output_type": "stream",
     "text": [
      "crs changed\n"
     ]
    },
    {
     "name": "stderr",
     "output_type": "stream",
     "text": [
      "100%|██████████| 3785474/3785474 [22:17<00:00, 2829.69it/s]\n"
     ]
    }
   ],
   "source": [
    "# read gpkg\n",
    "whole_area_adm = gpd.read_file('data/whole_adm_대전세종.gpkg')\n",
    "whole_area_adm = whole_area_adm.to_crs(epsg=5179)\n",
    "# grid = grid.to_crs(epsg=5181)\n",
    "grid['INTERSECTED'] = 0\n",
    "print('crs changed')\n",
    "\n",
    "for i in tqdm(range(len(grid))):\n",
    "    if whole_area_adm.geometry.intersects(grid.geometry[i]).any():\n",
    "        grid.iat[i, 2] = 1\n",
    "\n",
    "grid = grid.loc[grid.INTERSECTED == 1,:]\n",
    "grid = grid[grid.columns.drop('INTERSECTED')].reset_index(drop=True)\n",
    "grid = grid.to_crs(epsg=5181)\n",
    "grid.to_file('data/CENSUS/grid_100M.gpkg', index=False)"
   ]
  },
  {
   "attachments": {},
   "cell_type": "markdown",
   "metadata": {},
   "source": [
    "대전, 세종 각각 격자화"
   ]
  },
  {
   "cell_type": "code",
   "execution_count": 17,
   "metadata": {},
   "outputs": [
    {
     "name": "stderr",
     "output_type": "stream",
     "text": [
      "  0%|          | 0/102032 [00:00<?, ?it/s]\n"
     ]
    },
    {
     "ename": "IndexError",
     "evalue": "index 2 is out of bounds for axis 0 with size 2",
     "output_type": "error",
     "traceback": [
      "\u001b[0;31m---------------------------------------------------------------------------\u001b[0m",
      "\u001b[0;31mIndexError\u001b[0m                                Traceback (most recent call last)",
      "\u001b[1;32m/Users/dangchan/Desktop/Github/LocalSecurity_competition/Census.ipynb 셀 8\u001b[0m in \u001b[0;36m<cell line: 7>\u001b[0;34m()\u001b[0m\n\u001b[1;32m      <a href='vscode-notebook-cell:/Users/dangchan/Desktop/Github/LocalSecurity_competition/Census.ipynb#X11sZmlsZQ%3D%3D?line=6'>7</a>\u001b[0m \u001b[39mfor\u001b[39;00m i \u001b[39min\u001b[39;00m tqdm(\u001b[39mrange\u001b[39m(\u001b[39mlen\u001b[39m(grid_DJ))):\n\u001b[1;32m      <a href='vscode-notebook-cell:/Users/dangchan/Desktop/Github/LocalSecurity_competition/Census.ipynb#X11sZmlsZQ%3D%3D?line=7'>8</a>\u001b[0m     \u001b[39mif\u001b[39;00m DJ_area_adm\u001b[39m.\u001b[39mgeometry\u001b[39m.\u001b[39mintersects(grid_DJ\u001b[39m.\u001b[39mgeometry[i])\u001b[39m.\u001b[39many():\n\u001b[0;32m----> <a href='vscode-notebook-cell:/Users/dangchan/Desktop/Github/LocalSecurity_competition/Census.ipynb#X11sZmlsZQ%3D%3D?line=8'>9</a>\u001b[0m         grid_DJ\u001b[39m.\u001b[39;49miat[i, \u001b[39m2\u001b[39;49m] \u001b[39m=\u001b[39m \u001b[39m1\u001b[39m\n\u001b[1;32m     <a href='vscode-notebook-cell:/Users/dangchan/Desktop/Github/LocalSecurity_competition/Census.ipynb#X11sZmlsZQ%3D%3D?line=10'>11</a>\u001b[0m grid_DJ \u001b[39m=\u001b[39m grid_DJ\u001b[39m.\u001b[39mloc[grid_DJ\u001b[39m.\u001b[39mINTERSECTED \u001b[39m==\u001b[39m \u001b[39m1\u001b[39m,:]\n\u001b[1;32m     <a href='vscode-notebook-cell:/Users/dangchan/Desktop/Github/LocalSecurity_competition/Census.ipynb#X11sZmlsZQ%3D%3D?line=11'>12</a>\u001b[0m grid_DJ \u001b[39m=\u001b[39m grid_DJ[grid_DJ\u001b[39m.\u001b[39mcolumns\u001b[39m.\u001b[39mdrop(\u001b[39m'\u001b[39m\u001b[39mINTERSECTED\u001b[39m\u001b[39m'\u001b[39m)]\u001b[39m.\u001b[39mreset_index(drop\u001b[39m=\u001b[39m\u001b[39mTrue\u001b[39;00m)\n",
      "File \u001b[0;32m~/miniforge3/envs/spatial/lib/python3.8/site-packages/pandas/core/indexing.py:2236\u001b[0m, in \u001b[0;36m_ScalarAccessIndexer.__setitem__\u001b[0;34m(self, key, value)\u001b[0m\n\u001b[1;32m   2233\u001b[0m \u001b[39mif\u001b[39;00m \u001b[39mlen\u001b[39m(key) \u001b[39m!=\u001b[39m \u001b[39mself\u001b[39m\u001b[39m.\u001b[39mndim:\n\u001b[1;32m   2234\u001b[0m     \u001b[39mraise\u001b[39;00m \u001b[39mValueError\u001b[39;00m(\u001b[39m\"\u001b[39m\u001b[39mNot enough indexers for scalar access (setting)!\u001b[39m\u001b[39m\"\u001b[39m)\n\u001b[0;32m-> 2236\u001b[0m \u001b[39mself\u001b[39;49m\u001b[39m.\u001b[39;49mobj\u001b[39m.\u001b[39;49m_set_value(\u001b[39m*\u001b[39;49mkey, value\u001b[39m=\u001b[39;49mvalue, takeable\u001b[39m=\u001b[39;49m\u001b[39mself\u001b[39;49m\u001b[39m.\u001b[39;49m_takeable)\n",
      "File \u001b[0;32m~/miniforge3/envs/spatial/lib/python3.8/site-packages/pandas/core/frame.py:3865\u001b[0m, in \u001b[0;36mDataFrame._set_value\u001b[0;34m(self, index, col, value, takeable)\u001b[0m\n\u001b[1;32m   3863\u001b[0m \u001b[39mtry\u001b[39;00m:\n\u001b[1;32m   3864\u001b[0m     \u001b[39mif\u001b[39;00m takeable:\n\u001b[0;32m-> 3865\u001b[0m         series \u001b[39m=\u001b[39m \u001b[39mself\u001b[39;49m\u001b[39m.\u001b[39;49m_ixs(col, axis\u001b[39m=\u001b[39;49m\u001b[39m1\u001b[39;49m)\n\u001b[1;32m   3866\u001b[0m         loc \u001b[39m=\u001b[39m index\n\u001b[1;32m   3867\u001b[0m     \u001b[39melse\u001b[39;00m:\n",
      "File \u001b[0;32m~/miniforge3/envs/spatial/lib/python3.8/site-packages/pandas/core/frame.py:3439\u001b[0m, in \u001b[0;36mDataFrame._ixs\u001b[0;34m(self, i, axis)\u001b[0m\n\u001b[1;32m   3435\u001b[0m     \u001b[39mreturn\u001b[39;00m result\n\u001b[1;32m   3437\u001b[0m \u001b[39m# icol\u001b[39;00m\n\u001b[1;32m   3438\u001b[0m \u001b[39melse\u001b[39;00m:\n\u001b[0;32m-> 3439\u001b[0m     label \u001b[39m=\u001b[39m \u001b[39mself\u001b[39;49m\u001b[39m.\u001b[39;49mcolumns[i]\n\u001b[1;32m   3441\u001b[0m     col_mgr \u001b[39m=\u001b[39m \u001b[39mself\u001b[39m\u001b[39m.\u001b[39m_mgr\u001b[39m.\u001b[39miget(i)\n\u001b[1;32m   3442\u001b[0m     result \u001b[39m=\u001b[39m \u001b[39mself\u001b[39m\u001b[39m.\u001b[39m_box_col_values(col_mgr, i)\n",
      "File \u001b[0;32m~/miniforge3/envs/spatial/lib/python3.8/site-packages/pandas/core/indexes/base.py:5039\u001b[0m, in \u001b[0;36mIndex.__getitem__\u001b[0;34m(self, key)\u001b[0m\n\u001b[1;32m   5036\u001b[0m \u001b[39mif\u001b[39;00m is_integer(key) \u001b[39mor\u001b[39;00m is_float(key):\n\u001b[1;32m   5037\u001b[0m     \u001b[39m# GH#44051 exclude bool, which would return a 2d ndarray\u001b[39;00m\n\u001b[1;32m   5038\u001b[0m     key \u001b[39m=\u001b[39m com\u001b[39m.\u001b[39mcast_scalar_indexer(key, warn_float\u001b[39m=\u001b[39m\u001b[39mTrue\u001b[39;00m)\n\u001b[0;32m-> 5039\u001b[0m     \u001b[39mreturn\u001b[39;00m getitem(key)\n\u001b[1;32m   5041\u001b[0m \u001b[39mif\u001b[39;00m \u001b[39misinstance\u001b[39m(key, \u001b[39mslice\u001b[39m):\n\u001b[1;32m   5042\u001b[0m     \u001b[39m# This case is separated from the conditional above to avoid\u001b[39;00m\n\u001b[1;32m   5043\u001b[0m     \u001b[39m# pessimization com.is_bool_indexer and ndim checks.\u001b[39;00m\n\u001b[1;32m   5044\u001b[0m     result \u001b[39m=\u001b[39m getitem(key)\n",
      "\u001b[0;31mIndexError\u001b[0m: index 2 is out of bounds for axis 0 with size 2"
     ]
    }
   ],
   "source": [
    "# read gpkg\n",
    "grid = gpd.read_file('data/CENSUS/grid_100M.gpkg')\n",
    "DJ_area_adm = whole_area_adm.loc[whole_area_adm.시도 == '대전', :]\n",
    "DJ_area_adm = DJ_area_adm.to_crs(epsg=5181)\n",
    "grid_DJ = grid.to_crs(epsg=5181)\n",
    "grid_DJ['INTERSECTED'] = 0\n",
    "\n",
    "for i in tqdm(range(len(grid_DJ))):\n",
    "    if DJ_area_adm.geometry.intersects(grid_DJ.geometry[i]).any():\n",
    "        grid_DJ.iat[i, 2] = 1\n",
    "\n",
    "grid_DJ = grid_DJ.loc[grid_DJ.INTERSECTED == 1,:]\n",
    "grid_DJ = grid_DJ[grid_DJ.columns.drop('INTERSECTED')].reset_index(drop=True)\n",
    "grid_DJ.to_file('data/CENSUS/grid_DJ_100M.gpkg', index=False)\n",
    "\n",
    "# read gpkg\n",
    "SJ_area_adm = whole_area_adm.loc[whole_area_adm.시도 == '세종', :]\n",
    "SJ_area_adm = SJ_area_adm.to_crs(epsg=5181)\n",
    "grid_SJ = grid.to_crs(epsg=5181)\n",
    "grid_SJ['INTERSECTED'] = 0\n",
    "\n",
    "for i in tqdm(range(len(grid_SJ))):\n",
    "    if SJ_area_adm.geometry.intersects(grid_SJ.geometry[i]).any():\n",
    "        grid_SJ.iat[i, 2] = 1\n",
    "\n",
    "grid_SJ = grid_SJ.loc[grid_SJ.INTERSECTED == 1,:]\n",
    "grid_SJ = grid_SJ[grid_SJ.columns.drop('INTERSECTED')].reset_index(drop=True)\n",
    "grid_SJ.to_file('data/CENSUS/grid_SJ_100M.gpkg', index=False)"
   ]
  },
  {
   "attachments": {},
   "cell_type": "markdown",
   "metadata": {},
   "source": [
    "인구데이터와 결합"
   ]
  },
  {
   "cell_type": "code",
   "execution_count": 15,
   "metadata": {},
   "outputs": [
    {
     "data": {
      "text/plain": [
       "(102032, 4)"
      ]
     },
     "execution_count": 15,
     "metadata": {},
     "output_type": "execute_result"
    }
   ],
   "source": [
    "# Join\n",
    "census = grid.join(df)\n",
    "census.shape"
   ]
  },
  {
   "cell_type": "code",
   "execution_count": 16,
   "metadata": {},
   "outputs": [],
   "source": [
    "# save\n",
    "census.to_file('data/CENSUS/census_100M.gpkg', index=True)"
   ]
  }
 ],
 "metadata": {
  "kernelspec": {
   "display_name": "spatial",
   "language": "python",
   "name": "python3"
  },
  "language_info": {
   "codemirror_mode": {
    "name": "ipython",
    "version": 3
   },
   "file_extension": ".py",
   "mimetype": "text/x-python",
   "name": "python",
   "nbconvert_exporter": "python",
   "pygments_lexer": "ipython3",
   "version": "3.8.13"
  },
  "orig_nbformat": 4,
  "vscode": {
   "interpreter": {
    "hash": "970356c564cb7e889de8bab98729c07a8b5fa078231c70c3e1e49bed73ee6f2a"
   }
  }
 },
 "nbformat": 4,
 "nbformat_minor": 2
}
