{
 "cells": [
  {
   "attachments": {},
   "cell_type": "markdown",
   "metadata": {},
   "source": [
    "# Census data Preprocessing\n",
    "\n",
    "### Data Source : 통계지리정보서비스(https://sgis.kostat.go.kr/)"
   ]
  },
  {
   "cell_type": "code",
   "execution_count": 1,
   "metadata": {},
   "outputs": [],
   "source": [
    "import pandas as pd\n",
    "import numpy as np\n",
    "import geopandas as gpd\n",
    "import matplotlib.pyplot as plt\n",
    "import os\n",
    "from tqdm import tqdm\n",
    "import re"
   ]
  },
  {
   "cell_type": "code",
   "execution_count": 2,
   "metadata": {},
   "outputs": [
    {
     "name": "stdout",
     "output_type": "stream",
     "text": [
      "(39423, 2)\n"
     ]
    }
   ],
   "source": [
    "flderlist = os.listdir('data/CENSUS/Grid')\n",
    "flderlist.remove('.DS_Store') # Grid folder list\n",
    "\n",
    "# Unit(1KM) 단위 격자 데이터 수집\n",
    "unit = '1K'\n",
    "\n",
    "grid = gpd.GeoDataFrame(columns = ['GRID_'+unit+'_CD','geometry'], crs='epsg:5179')\n",
    "for f in flderlist:\n",
    "    filelist = os.listdir('data/CENSUS/Grid/'+f)\n",
    "    idx = np.where([re.search(unit+'.shp$', i) for i in filelist])[0][0]\n",
    "    filename = filelist[idx]\n",
    "    gdf = gpd.read_file('data/CENSUS/Grid/'+f+'/'+filename)\n",
    "    grid = pd.concat([grid, gdf], axis=0, ignore_index=True)\n",
    "print(grid.shape)"
   ]
  },
  {
   "cell_type": "code",
   "execution_count": 3,
   "metadata": {},
   "outputs": [
    {
     "name": "stdout",
     "output_type": "stream",
     "text": [
      "(30437, 66)\n"
     ]
    }
   ],
   "source": [
    "# 인구데이터 수집\n",
    "df = pd.DataFrame()\n",
    "censuslist = os.listdir('data/CENSUS')\n",
    "idxs = np.where([re.search(unit+'.txt$', i) for i in censuslist])[0]\n",
    "for i in idxs:\n",
    "    df_new = pd.read_table('data/CENSUS/'+censuslist[i], sep='^', header=None)\n",
    "    df_new.columns = ['YEAR','GRID','TYPE','COUNT']\n",
    "    df_new = df_new[['GRID','TYPE','COUNT']]\n",
    "    df_new = df_new.set_index(['GRID','TYPE']).stack().unstack(level=1)\n",
    "    df_new = df_new.reset_index(level=['GRID']).reset_index(drop=True)\n",
    "    df_new.index.name = None\n",
    "    df = pd.concat([df, df_new], ignore_index=True)\n",
    "\n",
    "df = df.set_index('GRID')\n",
    "df.index.name = None\n",
    "df.columns.name = None\n",
    "print(df.shape)"
   ]
  },
  {
   "attachments": {},
   "cell_type": "markdown",
   "metadata": {},
   "source": [
    "### 격자데이터와 지역데이터 병합\n",
    ": 대전, 세종지역만 포함하는 격자 처리"
   ]
  },
  {
   "cell_type": "code",
   "execution_count": 4,
   "metadata": {},
   "outputs": [
    {
     "name": "stderr",
     "output_type": "stream",
     "text": [
      "100%|██████████| 39423/39423 [00:11<00:00, 3449.85it/s]\n"
     ]
    }
   ],
   "source": [
    "# read gpkg\n",
    "whole_area_adm = gpd.read_file('data/whole_adm_대전세종.gpkg')\n",
    "whole_area_adm = whole_area_adm.to_crs(epsg=5181)\n",
    "grid = grid.to_crs(epsg=5181)\n",
    "grid['INTERSECTED'] = 0\n",
    "\n",
    "for i in tqdm(range(len(grid))):\n",
    "    if whole_area_adm.geometry.intersects(grid.geometry[i]).any():\n",
    "        grid.iat[i, 2] = 1\n",
    "\n",
    "grid = grid.loc[grid.INTERSECTED == 1,:]\n",
    "grid = grid[grid.columns.drop('INTERSECTED')].reset_index(drop=True)\n",
    "grid.to_file('data/CENSUS/grid.gpkg', index=False)"
   ]
  },
  {
   "attachments": {},
   "cell_type": "markdown",
   "metadata": {},
   "source": [
    "인구데이터와 결합"
   ]
  },
  {
   "cell_type": "code",
   "execution_count": 5,
   "metadata": {},
   "outputs": [],
   "source": [
    "grid = grid.set_index('GRID_1K_CD')\n",
    "grid.index.name = None"
   ]
  },
  {
   "cell_type": "code",
   "execution_count": 6,
   "metadata": {},
   "outputs": [
    {
     "data": {
      "text/plain": [
       "(1149, 67)"
      ]
     },
     "execution_count": 6,
     "metadata": {},
     "output_type": "execute_result"
    }
   ],
   "source": [
    "# Join\n",
    "census = grid.join(df)\n",
    "census.shape"
   ]
  },
  {
   "cell_type": "code",
   "execution_count": 7,
   "metadata": {},
   "outputs": [],
   "source": [
    "# save\n",
    "census.to_file('data/CENSUS/census.gpkg', index=True)"
   ]
  }
 ],
 "metadata": {
  "kernelspec": {
   "display_name": "spatial",
   "language": "python",
   "name": "python3"
  },
  "language_info": {
   "codemirror_mode": {
    "name": "ipython",
    "version": 3
   },
   "file_extension": ".py",
   "mimetype": "text/x-python",
   "name": "python",
   "nbconvert_exporter": "python",
   "pygments_lexer": "ipython3",
   "version": "3.8.13"
  },
  "orig_nbformat": 4,
  "vscode": {
   "interpreter": {
    "hash": "970356c564cb7e889de8bab98729c07a8b5fa078231c70c3e1e49bed73ee6f2a"
   }
  }
 },
 "nbformat": 4,
 "nbformat_minor": 2
}
