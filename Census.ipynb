{
 "cells": [
  {
   "attachments": {},
   "cell_type": "markdown",
   "metadata": {},
   "source": [
    "# Census data Preprocessing\n",
    "\n",
    "### Data Source : 통계지리정보서비스(https://sgis.kostat.go.kr/)"
   ]
  },
  {
   "cell_type": "code",
   "execution_count": 1,
   "metadata": {},
   "outputs": [],
   "source": [
    "import pandas as pd\n",
    "import numpy as np\n",
    "import geopandas as gpd\n",
    "import matplotlib.pyplot as plt\n",
    "import os\n",
    "from tqdm import tqdm\n",
    "import re"
   ]
  },
  {
   "cell_type": "code",
   "execution_count": 10,
   "metadata": {},
   "outputs": [
    {
     "name": "stderr",
     "output_type": "stream",
     "text": [
      "100%|██████████| 4/4 [01:40<00:00, 25.21s/it]"
     ]
    },
    {
     "name": "stdout",
     "output_type": "stream",
     "text": [
      "(3785474, 2)\n"
     ]
    },
    {
     "name": "stderr",
     "output_type": "stream",
     "text": [
      "\n"
     ]
    }
   ],
   "source": [
    "flderlist = os.listdir('data/CENSUS/Grid')\n",
    "flderlist.remove('.DS_Store') # Grid folder list\n",
    "\n",
    "# Unit(100M) 단위 격자 데이터 수집\n",
    "unit = '100M'\n",
    "\n",
    "grid = gpd.GeoDataFrame(columns = ['GRID_'+unit+'_','geometry'], crs='epsg:5179')\n",
    "for f in tqdm(flderlist):\n",
    "    filelist = os.listdir('data/CENSUS/Grid/'+f)\n",
    "    idx = np.where([re.search(unit+'.shp$', i) for i in filelist])[0][0]\n",
    "    filename = filelist[idx]\n",
    "    gdf = gpd.read_file('data/CENSUS/Grid/'+f+'/'+filename)\n",
    "    grid = pd.concat([grid, gdf], axis=0, ignore_index=True)\n",
    "print(grid.shape)"
   ]
  },
  {
   "cell_type": "code",
   "execution_count": 11,
   "metadata": {},
   "outputs": [
    {
     "name": "stdout",
     "output_type": "stream",
     "text": [
      "(410420, 3)\n"
     ]
    }
   ],
   "source": [
    "# 인구데이터 수집\n",
    "df = pd.DataFrame()\n",
    "censuslist = os.listdir('data/CENSUS')\n",
    "idxs = np.where([re.search(unit+'.txt$', i) for i in censuslist])[0]\n",
    "for i in idxs:\n",
    "    df_new = pd.read_table('data/CENSUS/'+censuslist[i], sep='^', header=None)\n",
    "    df_new.columns = ['YEAR','GRID','TYPE','COUNT']\n",
    "    df_new = df_new[['GRID','TYPE','COUNT']]\n",
    "    df_new = df_new.set_index(['GRID','TYPE']).stack().unstack(level=1)\n",
    "    df_new = df_new.reset_index(level=['GRID']).reset_index(drop=True)\n",
    "    df_new.index.name = None\n",
    "    df = pd.concat([df, df_new], ignore_index=True)\n",
    "\n",
    "df = df.set_index('GRID')\n",
    "df.index.name = None\n",
    "df.columns.name = None\n",
    "print(df.shape)"
   ]
  },
  {
   "attachments": {},
   "cell_type": "markdown",
   "metadata": {},
   "source": [
    "### 격자데이터와 지역데이터 병합\n",
    ": 대전, 세종지역만 포함하는 격자 처리"
   ]
  },
  {
   "cell_type": "code",
   "execution_count": 12,
   "metadata": {},
   "outputs": [
    {
     "name": "stdout",
     "output_type": "stream",
     "text": [
      "crs changed\n"
     ]
    },
    {
     "name": "stderr",
     "output_type": "stream",
     "text": [
      "100%|██████████| 3785474/3785474 [22:17<00:00, 2829.69it/s]\n"
     ]
    }
   ],
   "source": [
    "# read gpkg\n",
    "whole_area_adm = gpd.read_file('data/whole_adm_대전세종.gpkg')\n",
    "whole_area_adm = whole_area_adm.to_crs(epsg=5179)\n",
    "# grid = grid.to_crs(epsg=5181)\n",
    "grid['INTERSECTED'] = 0\n",
    "print('crs changed')\n",
    "\n",
    "for i in tqdm(range(len(grid))):\n",
    "    if whole_area_adm.geometry.intersects(grid.geometry[i]).any():\n",
    "        grid.iat[i, 2] = 1\n",
    "\n",
    "grid = grid.loc[grid.INTERSECTED == 1,:]\n",
    "grid = grid[grid.columns.drop('INTERSECTED')].reset_index(drop=True)\n",
    "grid = grid.to_crs(epsg=5181)\n",
    "grid.to_file('data/CENSUS/grid_100M.gpkg', index=False)"
   ]
  },
  {
   "attachments": {},
   "cell_type": "markdown",
   "metadata": {},
   "source": [
    "대전, 세종 각각 격자화"
   ]
  },
  {
   "cell_type": "code",
   "execution_count": 23,
   "metadata": {},
   "outputs": [
    {
     "name": "stderr",
     "output_type": "stream",
     "text": [
      "100%|██████████| 102032/102032 [00:46<00:00, 2182.59it/s]\n",
      "100%|██████████| 102032/102032 [00:29<00:00, 3459.50it/s]\n"
     ]
    }
   ],
   "source": [
    "# read gpkg\n",
    "grid = gpd.read_file('data/CENSUS/grid_100M.gpkg')\n",
    "DJ_area_adm = whole_area_adm.loc[whole_area_adm.시도 == '대전', :]\n",
    "DJ_area_adm = DJ_area_adm.to_crs(epsg=5181)\n",
    "grid_DJ = grid.to_crs(epsg=5181)\n",
    "grid_DJ['INTERSECTED'] = 0\n",
    "\n",
    "for i in tqdm(range(len(grid_DJ))):\n",
    "    if DJ_area_adm.geometry.intersects(grid_DJ.geometry[i]).any():\n",
    "        grid_DJ.iat[i, 2] = 1\n",
    "\n",
    "grid_DJ = grid_DJ.loc[grid_DJ.INTERSECTED == 1,:]\n",
    "grid_DJ = grid_DJ[grid_DJ.columns.drop('INTERSECTED')].reset_index(drop=True)\n",
    "grid_DJ.to_file('data/CENSUS/grid_DJ_100M.gpkg', index=False)\n",
    "\n",
    "# read gpkg\n",
    "SJ_area_adm = whole_area_adm.loc[whole_area_adm.시도 == '세종', :]\n",
    "SJ_area_adm = SJ_area_adm.to_crs(epsg=5181)\n",
    "grid_SJ = grid.to_crs(epsg=5181)\n",
    "grid_SJ['INTERSECTED'] = 0\n",
    "\n",
    "for i in tqdm(range(len(grid_SJ))):\n",
    "    if SJ_area_adm.geometry.intersects(grid_SJ.geometry[i]).any():\n",
    "        grid_SJ.iat[i, 2] = 1\n",
    "\n",
    "grid_SJ = grid_SJ.loc[grid_SJ.INTERSECTED == 1,:]\n",
    "grid_SJ = grid_SJ[grid_SJ.columns.drop('INTERSECTED')].reset_index(drop=True)\n",
    "grid_SJ.to_file('data/CENSUS/grid_SJ_100M.gpkg', index=False)"
   ]
  },
  {
   "attachments": {},
   "cell_type": "markdown",
   "metadata": {},
   "source": [
    "인구데이터와 결합"
   ]
  },
  {
   "cell_type": "code",
   "execution_count": 15,
   "metadata": {},
   "outputs": [
    {
     "data": {
      "text/plain": [
       "(102032, 4)"
      ]
     },
     "execution_count": 15,
     "metadata": {},
     "output_type": "execute_result"
    }
   ],
   "source": [
    "# Join\n",
    "census = grid.join(df)\n",
    "census.shape"
   ]
  },
  {
   "cell_type": "code",
   "execution_count": 16,
   "metadata": {},
   "outputs": [],
   "source": [
    "# save\n",
    "census.to_file('data/CENSUS/census_100M.gpkg', index=True)"
   ]
  },
  {
   "cell_type": "code",
   "execution_count": 27,
   "metadata": {},
   "outputs": [
    {
     "data": {
      "text/html": [
       "<div>\n",
       "<style scoped>\n",
       "    .dataframe tbody tr th:only-of-type {\n",
       "        vertical-align: middle;\n",
       "    }\n",
       "\n",
       "    .dataframe tbody tr th {\n",
       "        vertical-align: top;\n",
       "    }\n",
       "\n",
       "    .dataframe thead th {\n",
       "        text-align: right;\n",
       "    }\n",
       "</style>\n",
       "<table border=\"1\" class=\"dataframe\">\n",
       "  <thead>\n",
       "    <tr style=\"text-align: right;\">\n",
       "      <th></th>\n",
       "      <th>geometry</th>\n",
       "      <th>to_in_001</th>\n",
       "      <th>to_in_007</th>\n",
       "      <th>to_in_008</th>\n",
       "    </tr>\n",
       "  </thead>\n",
       "  <tbody>\n",
       "    <tr>\n",
       "      <th>다바848000</th>\n",
       "      <td>POLYGON ((229763.414 299957.480, 229762.899 30...</td>\n",
       "      <td>NaN</td>\n",
       "      <td>NaN</td>\n",
       "      <td>NaN</td>\n",
       "    </tr>\n",
       "    <tr>\n",
       "      <th>다바849000</th>\n",
       "      <td>POLYGON ((229863.454 299957.995, 229862.938 30...</td>\n",
       "      <td>NaN</td>\n",
       "      <td>NaN</td>\n",
       "      <td>NaN</td>\n",
       "    </tr>\n",
       "    <tr>\n",
       "      <th>다바850000</th>\n",
       "      <td>POLYGON ((229963.493 299958.511, 229962.978 30...</td>\n",
       "      <td>NaN</td>\n",
       "      <td>NaN</td>\n",
       "      <td>NaN</td>\n",
       "    </tr>\n",
       "    <tr>\n",
       "      <th>다바851000</th>\n",
       "      <td>POLYGON ((230063.533 299959.027, 230063.017 30...</td>\n",
       "      <td>NaN</td>\n",
       "      <td>NaN</td>\n",
       "      <td>NaN</td>\n",
       "    </tr>\n",
       "    <tr>\n",
       "      <th>다바852000</th>\n",
       "      <td>POLYGON ((230163.572 299959.542, 230163.057 30...</td>\n",
       "      <td>NaN</td>\n",
       "      <td>NaN</td>\n",
       "      <td>NaN</td>\n",
       "    </tr>\n",
       "    <tr>\n",
       "      <th>...</th>\n",
       "      <td>...</td>\n",
       "      <td>...</td>\n",
       "      <td>...</td>\n",
       "      <td>...</td>\n",
       "    </tr>\n",
       "    <tr>\n",
       "      <th>라바000286</th>\n",
       "      <td>POLYGON ((244821.634 328647.621, 244821.115 32...</td>\n",
       "      <td>NaN</td>\n",
       "      <td>NaN</td>\n",
       "      <td>NaN</td>\n",
       "    </tr>\n",
       "    <tr>\n",
       "      <th>라바001286</th>\n",
       "      <td>POLYGON ((244921.675 328648.140, 244921.156 32...</td>\n",
       "      <td>NaN</td>\n",
       "      <td>NaN</td>\n",
       "      <td>NaN</td>\n",
       "    </tr>\n",
       "    <tr>\n",
       "      <th>라바002286</th>\n",
       "      <td>POLYGON ((245021.716 328648.658, 245021.197 32...</td>\n",
       "      <td>NaN</td>\n",
       "      <td>NaN</td>\n",
       "      <td>NaN</td>\n",
       "    </tr>\n",
       "    <tr>\n",
       "      <th>라바000287</th>\n",
       "      <td>POLYGON ((244821.115 328747.662, 244820.596 32...</td>\n",
       "      <td>NaN</td>\n",
       "      <td>NaN</td>\n",
       "      <td>NaN</td>\n",
       "    </tr>\n",
       "    <tr>\n",
       "      <th>라바001287</th>\n",
       "      <td>POLYGON ((244921.156 328748.181, 244920.637 32...</td>\n",
       "      <td>NaN</td>\n",
       "      <td>NaN</td>\n",
       "      <td>NaN</td>\n",
       "    </tr>\n",
       "  </tbody>\n",
       "</table>\n",
       "<p>102032 rows × 4 columns</p>\n",
       "</div>"
      ],
      "text/plain": [
       "                                                   geometry  to_in_001  \\\n",
       "다바848000  POLYGON ((229763.414 299957.480, 229762.899 30...        NaN   \n",
       "다바849000  POLYGON ((229863.454 299957.995, 229862.938 30...        NaN   \n",
       "다바850000  POLYGON ((229963.493 299958.511, 229962.978 30...        NaN   \n",
       "다바851000  POLYGON ((230063.533 299959.027, 230063.017 30...        NaN   \n",
       "다바852000  POLYGON ((230163.572 299959.542, 230163.057 30...        NaN   \n",
       "...                                                     ...        ...   \n",
       "라바000286  POLYGON ((244821.634 328647.621, 244821.115 32...        NaN   \n",
       "라바001286  POLYGON ((244921.675 328648.140, 244921.156 32...        NaN   \n",
       "라바002286  POLYGON ((245021.716 328648.658, 245021.197 32...        NaN   \n",
       "라바000287  POLYGON ((244821.115 328747.662, 244820.596 32...        NaN   \n",
       "라바001287  POLYGON ((244921.156 328748.181, 244920.637 32...        NaN   \n",
       "\n",
       "          to_in_007  to_in_008  \n",
       "다바848000        NaN        NaN  \n",
       "다바849000        NaN        NaN  \n",
       "다바850000        NaN        NaN  \n",
       "다바851000        NaN        NaN  \n",
       "다바852000        NaN        NaN  \n",
       "...             ...        ...  \n",
       "라바000286        NaN        NaN  \n",
       "라바001286        NaN        NaN  \n",
       "라바002286        NaN        NaN  \n",
       "라바000287        NaN        NaN  \n",
       "라바001287        NaN        NaN  \n",
       "\n",
       "[102032 rows x 4 columns]"
      ]
     },
     "execution_count": 27,
     "metadata": {},
     "output_type": "execute_result"
    }
   ],
   "source": [
    "census"
   ]
  },
  {
   "cell_type": "code",
   "execution_count": null,
   "metadata": {},
   "outputs": [],
   "source": [
    "DJ = gpd.read_file('data/CENSUS/')"
   ]
  }
 ],
 "metadata": {
  "kernelspec": {
   "display_name": "spatial",
   "language": "python",
   "name": "python3"
  },
  "language_info": {
   "codemirror_mode": {
    "name": "ipython",
    "version": 3
   },
   "file_extension": ".py",
   "mimetype": "text/x-python",
   "name": "python",
   "nbconvert_exporter": "python",
   "pygments_lexer": "ipython3",
   "version": "3.8.13"
  },
  "orig_nbformat": 4,
  "vscode": {
   "interpreter": {
    "hash": "970356c564cb7e889de8bab98729c07a8b5fa078231c70c3e1e49bed73ee6f2a"
   }
  }
 },
 "nbformat": 4,
 "nbformat_minor": 2
}
