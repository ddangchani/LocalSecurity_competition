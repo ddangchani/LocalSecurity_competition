{
 "cells": [
  {
   "cell_type": "code",
   "execution_count": 9,
   "metadata": {},
   "outputs": [
    {
     "ename": "",
     "evalue": "",
     "output_type": "error",
     "traceback": [
      "\u001b[1;31m현재 셀 또는 이전 셀에서 코드를 실행하는 동안 Kernel이 충돌했습니다. 셀의 코드를 검토하여 오류의 가능한 원인을 식별하세요. 자세한 내용을 보려면 <a href='https://aka.ms/vscodeJupyterKernelCrash'> 여기 </a> 를 클릭하세요. 자세한 내용은 Jupyter <a href='command:jupyter.viewOutput'>로그</a>를 참조하세요."
     ]
    },
    {
     "ename": "",
     "evalue": "",
     "output_type": "error",
     "traceback": [
      "\u001b[1;31mCanceled future for execute_request message before replies were done"
     ]
    }
   ],
   "source": [
    "import numpy as np\n",
    "from fastkde import fastKDE\n",
    "import pylab as PP\n",
    "import pandas as pd\n",
    "\n",
    "df = pd.read_csv('STKDE/data.csv')\n",
    "\n",
    "#Generate two random variables dataset (representing 100000 pairs of datapoints)\n",
    "var1 = df.X.to_numpy()\n",
    "var2 = df.Y.to_numpy()\n",
    "var3 = df['T'].to_numpy()\n",
    "\n",
    "#Do the self-consistent density estimate\n",
    "myPDF,axes = fastKDE.pdf(var1,var2,var3)\n",
    "\n",
    "#Extract the axes from the axis list\n",
    "v1,v2,v3 = axes"
   ]
  }
 ],
 "metadata": {
  "kernelspec": {
   "display_name": "spatial",
   "language": "python",
   "name": "python3"
  },
  "language_info": {
   "codemirror_mode": {
    "name": "ipython",
    "version": 3
   },
   "file_extension": ".py",
   "mimetype": "text/x-python",
   "name": "python",
   "nbconvert_exporter": "python",
   "pygments_lexer": "ipython3",
   "version": "3.8.13"
  },
  "orig_nbformat": 4,
  "vscode": {
   "interpreter": {
    "hash": "970356c564cb7e889de8bab98729c07a8b5fa078231c70c3e1e49bed73ee6f2a"
   }
  }
 },
 "nbformat": 4,
 "nbformat_minor": 2
}
