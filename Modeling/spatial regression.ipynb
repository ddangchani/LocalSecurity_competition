{
 "cells": [
  {
   "attachments": {},
   "cell_type": "markdown",
   "metadata": {},
   "source": [
    "# Spatial Regression"
   ]
  },
  {
   "cell_type": "code",
   "execution_count": 18,
   "metadata": {},
   "outputs": [],
   "source": [
    "import pysal as ps\n",
    "from pysal.lib import weights\n",
    "from pysal.explore import esda\n",
    "from pysal.model import spreg\n",
    "import numpy as np\n",
    "import pandas as pd\n",
    "import geopandas as gpd\n",
    "import matplotlib.pyplot as plt\n",
    "import seaborn as sns\n",
    "import contextily\n",
    "from scipy.stats import shapiro\n",
    "import os\n",
    "os.chdir('/Users/dangchan/Desktop/Github/LocalSecurity_competition')"
   ]
  },
  {
   "cell_type": "code",
   "execution_count": 19,
   "metadata": {},
   "outputs": [],
   "source": [
    "grid = gpd.read_file('data/CENSUS/grid_DJ_100M.gpkg') # load grid information\n",
    "density = pd.read_csv('SKDE/result/DJ_100M_sb_1179.csv')\n",
    "\n",
    "result_grid = density.groupby(['X','Y'], as_index=False).sum()\n",
    "result_grid = gpd.GeoDataFrame(result_grid['density'], geometry=gpd.points_from_xy(result_grid.X, result_grid.Y), crs='epsg:5181')\n",
    "\n",
    "# 격자에 병합\n",
    "grid = grid.sjoin(result_grid, how='left')\n",
    "grid = grid[grid.columns.drop('index_right')]\n",
    "\n",
    "# census data\n",
    "census = gpd.read_file('df_full_100M.gpkg').fillna(0)\n",
    "df = grid.set_index('GRID_100M_').join(census[census.columns.drop('geometry')].set_index('GRID_100M_')).reset_index(drop=True)"
   ]
  },
  {
   "cell_type": "code",
   "execution_count": 20,
   "metadata": {},
   "outputs": [],
   "source": [
    "# Independent variable cols\n",
    "var_names = list(df.columns.drop(['geometry','density']))"
   ]
  },
  {
   "cell_type": "code",
   "execution_count": 21,
   "metadata": {},
   "outputs": [
    {
     "data": {
      "text/plain": [
       "<AxesSubplot:xlabel='density', ylabel='Density'>"
      ]
     },
     "execution_count": 21,
     "metadata": {},
     "output_type": "execute_result"
    },
    {
     "data": {
      "image/png": "[encoded data removed]",
      "text/plain": [
       "<Figure size 432x288 with 1 Axes>"
      ]
     },
     "metadata": {
      "needs_background": "light"
     },
     "output_type": "display_data"
    }
   ],
   "source": [
    "# Dist of density\n",
    "sns.kdeplot(df.density)"
   ]
  },
  {
   "attachments": {},
   "cell_type": "markdown",
   "metadata": {},
   "source": [
    "## OLS"
   ]
  },
  {
   "cell_type": "code",
   "execution_count": 22,
   "metadata": {},
   "outputs": [],
   "source": [
    "# Fitting normal OLS\n",
    "OLS = spreg.OLS(\n",
    "    # Responsive(Y)\n",
    "    df.density.values,\n",
    "    # Predictive(X)\n",
    "    df[var_names].values,\n",
    "    # var names\n",
    "    name_y = \"density\",\n",
    "    name_x = var_names\n",
    ")\n",
    "OLS_log = spreg.OLS(\n",
    "    # Responsive(Y)\n",
    "    np.log1p(df.density.values),\n",
    "    # Predictive(X)\n",
    "    df[var_names].values,\n",
    "    # var names\n",
    "    name_y = \"density\",\n",
    "    name_x = var_names\n",
    ")"
   ]
  },
  {
   "cell_type": "code",
   "execution_count": 23,
   "metadata": {},
   "outputs": [
    {
     "name": "stdout",
     "output_type": "stream",
     "text": [
      "REGRESSION\n",
      "----------\n",
      "SUMMARY OF OUTPUT: ORDINARY LEAST SQUARES\n",
      "-----------------------------------------\n",
      "Data set            :     unknown\n",
      "Weights matrix      :        None\n",
      "Dependent Variable  :     density                Number of Observations:       54910\n",
      "Mean dependent var  :      0.0003                Number of Variables   :          15\n",
      "S.D. dependent var  :      0.0006                Degrees of Freedom    :       54895\n",
      "R-squared           :      0.3904\n",
      "Adjusted R-squared  :      0.3903\n",
      "Sum squared residual:       0.012                F-statistic           :   2511.5795\n",
      "Sigma-square        :       0.000                Prob(F-statistic)     :           0\n",
      "S.E. of regression  :       0.000                Log likelihood        :  343044.924\n",
      "Sigma-square ML     :       0.000                Akaike info criterion : -686059.849\n",
      "S.E of regression ML:      0.0005                Schwarz criterion     : -685926.147\n",
      "\n",
      "------------------------------------------------------------------------------------\n",
      "            Variable     Coefficient       Std.Error     t-Statistic     Probability\n",
      "------------------------------------------------------------------------------------\n",
      "            CONSTANT       0.0002050       0.0000021      96.9806394       0.0000000\n",
      "                 ATM       0.0003311       0.0000209      15.8307919       0.0000000\n",
      "                 Bus       0.0001656       0.0000071      23.4401166       0.0000000\n",
      "          Conv_Store       0.0001164       0.0000129       8.9871665       0.0000000\n",
      "               생활서비스       0.0001044       0.0000025      42.1422973       0.0000000\n",
      "                  소매       0.0000028       0.0000007       3.9231115       0.0000875\n",
      "               학문/교육      -0.0000157       0.0000031      -5.0156645       0.0000005\n",
      "                  음식       0.0000446       0.0000014      32.5982076       0.0000000\n",
      "            관광/여가/오락       0.0000445       0.0000083       5.3540948       0.0000001\n",
      "                 부동산       0.0000256       0.0000067       3.7953421       0.0001476\n",
      "                 스포츠       0.0000278       0.0000134       2.0765861       0.0378444\n",
      "                  숙박       0.0002492       0.0000115      21.6086476       0.0000000\n",
      "           to_in_001      -0.0000061       0.0000017      -3.6971064       0.0002183\n",
      "           to_in_007       0.0000063       0.0000017       3.8028078       0.0001432\n",
      "           to_in_008       0.0000102       0.0000017       6.0894856       0.0000000\n",
      "------------------------------------------------------------------------------------\n",
      "\n",
      "REGRESSION DIAGNOSTICS\n",
      "MULTICOLLINEARITY CONDITION NUMBER          225.996\n",
      "\n",
      "TEST ON NORMALITY OF ERRORS\n",
      "TEST                             DF        VALUE           PROB\n",
      "Jarque-Bera                       2      181140.146           0.0000\n",
      "\n",
      "DIAGNOSTICS FOR HETEROSKEDASTICITY\n",
      "RANDOM COEFFICIENTS\n",
      "TEST                             DF        VALUE           PROB\n",
      "Breusch-Pagan test               14       41089.035           0.0000\n",
      "Koenker-Bassett test             14        8179.368           0.0000\n",
      "================================ END OF REPORT =====================================\n"
     ]
    }
   ],
   "source": [
    "print(OLS.summary)"
   ]
  },
  {
   "cell_type": "code",
   "execution_count": 24,
   "metadata": {},
   "outputs": [
    {
     "name": "stdout",
     "output_type": "stream",
     "text": [
      "REGRESSION\n",
      "----------\n",
      "SUMMARY OF OUTPUT: ORDINARY LEAST SQUARES\n",
      "-----------------------------------------\n",
      "Data set            :     unknown\n",
      "Weights matrix      :        None\n",
      "Dependent Variable  :     density                Number of Observations:       54910\n",
      "Mean dependent var  :      0.0003                Number of Variables   :          15\n",
      "S.D. dependent var  :      0.0006                Degrees of Freedom    :       54895\n",
      "R-squared           :      0.3904\n",
      "Adjusted R-squared  :      0.3903\n",
      "Sum squared residual:       0.012                F-statistic           :   2511.5286\n",
      "Sigma-square        :       0.000                Prob(F-statistic)     :           0\n",
      "S.E. of regression  :       0.000                Log likelihood        :  343100.094\n",
      "Sigma-square ML     :       0.000                Akaike info criterion : -686170.189\n",
      "S.E of regression ML:      0.0005                Schwarz criterion     : -686036.487\n",
      "\n",
      "------------------------------------------------------------------------------------\n",
      "            Variable     Coefficient       Std.Error     t-Statistic     Probability\n",
      "------------------------------------------------------------------------------------\n",
      "            CONSTANT       0.0002049       0.0000021      97.0247795       0.0000000\n",
      "                 ATM       0.0003307       0.0000209      15.8275844       0.0000000\n",
      "                 Bus       0.0001655       0.0000071      23.4466267       0.0000000\n",
      "          Conv_Store       0.0001162       0.0000129       8.9851451       0.0000000\n",
      "               생활서비스       0.0001043       0.0000025      42.1362270       0.0000000\n",
      "                  소매       0.0000028       0.0000007       3.9231436       0.0000875\n",
      "               학문/교육      -0.0000157       0.0000031      -5.0150080       0.0000005\n",
      "                  음식       0.0000445       0.0000014      32.5965763       0.0000000\n",
      "            관광/여가/오락       0.0000445       0.0000083       5.3509137       0.0000001\n",
      "                 부동산       0.0000255       0.0000067       3.7926538       0.0001492\n",
      "                 스포츠       0.0000278       0.0000134       2.0753431       0.0379594\n",
      "                  숙박       0.0002489       0.0000115      21.6043476       0.0000000\n",
      "           to_in_001      -0.0000061       0.0000017      -3.6998115       0.0002160\n",
      "           to_in_007       0.0000063       0.0000017       3.8060969       0.0001413\n",
      "           to_in_008       0.0000102       0.0000017       6.0919304       0.0000000\n",
      "------------------------------------------------------------------------------------\n",
      "\n",
      "REGRESSION DIAGNOSTICS\n",
      "MULTICOLLINEARITY CONDITION NUMBER          225.996\n",
      "\n",
      "TEST ON NORMALITY OF ERRORS\n",
      "TEST                             DF        VALUE           PROB\n",
      "Jarque-Bera                       2      180705.923           0.0000\n",
      "\n",
      "DIAGNOSTICS FOR HETEROSKEDASTICITY\n",
      "RANDOM COEFFICIENTS\n",
      "TEST                             DF        VALUE           PROB\n",
      "Breusch-Pagan test               14       41085.186           0.0000\n",
      "Koenker-Bassett test             14        8187.207           0.0000\n",
      "================================ END OF REPORT =====================================\n"
     ]
    }
   ],
   "source": [
    "print(OLS_log.summary)"
   ]
  },
  {
   "cell_type": "code",
   "execution_count": 26,
   "metadata": {},
   "outputs": [],
   "source": [
    "# Get weight matrix\n",
    "knn = weights.KNN.from_dataframe(df, k=1)"
   ]
  },
  {
   "cell_type": "code",
   "execution_count": 27,
   "metadata": {},
   "outputs": [
    {
     "data": {
      "text/plain": [
       "Text(0, 0.5, 'Spatial Lag of Model Residuals - $Wu$')"
      ]
     },
     "execution_count": 27,
     "metadata": {},
     "output_type": "execute_result"
    },
    {
     "data": {
      "image/png": "[encoded data removed]",
      "text/plain": [
       "<Figure size 432x288 with 1 Axes>"
      ]
     },
     "metadata": {
      "needs_background": "light"
     },
     "output_type": "display_data"
    }
   ],
   "source": [
    "# Spatial Lag residual plot\n",
    "lag_residual = weights.spatial_lag.lag_spatial(knn, OLS.u)\n",
    "ax = sns.regplot(\n",
    "    x= OLS.u.flatten(),\n",
    "    y= lag_residual.flatten(),\n",
    "    line_kws={\"color\":\"red\"},\n",
    "    ci=None\n",
    ")\n",
    "ax.set_xlabel(\"Model Residuals - $u$\")\n",
    "ax.set_ylabel(\"Spatial Lag of Model Residuals - $Wu$\")"
   ]
  },
  {
   "attachments": {},
   "cell_type": "markdown",
   "metadata": {},
   "source": [
    "## Spatially lagged Exogeneous Model"
   ]
  },
  {
   "cell_type": "code",
   "execution_count": 30,
   "metadata": {},
   "outputs": [],
   "source": [
    "spatial = spreg.OLS(\n",
    "    # Responsive(Y)\n",
    "    df.density.values,\n",
    "    # Predictive(X)\n",
    "    df[var_names].values,\n",
    "    # weight\n",
    "    w = knn, \n",
    "    # var names\n",
    "    name_y = \"density\",\n",
    "    name_x = var_names,\n",
    "    spat_diag=True\n",
    ")"
   ]
  },
  {
   "cell_type": "code",
   "execution_count": 31,
   "metadata": {},
   "outputs": [
    {
     "name": "stdout",
     "output_type": "stream",
     "text": [
      "REGRESSION\n",
      "----------\n",
      "SUMMARY OF OUTPUT: ORDINARY LEAST SQUARES\n",
      "-----------------------------------------\n",
      "Data set            :     unknown\n",
      "Weights matrix      :     unknown\n",
      "Dependent Variable  :     density                Number of Observations:       54910\n",
      "Mean dependent var  :      0.0003                Number of Variables   :          15\n",
      "S.D. dependent var  :      0.0006                Degrees of Freedom    :       54895\n",
      "R-squared           :      0.3904\n",
      "Adjusted R-squared  :      0.3903\n",
      "Sum squared residual:       0.012                F-statistic           :   2511.5795\n",
      "Sigma-square        :       0.000                Prob(F-statistic)     :           0\n",
      "S.E. of regression  :       0.000                Log likelihood        :  343044.924\n",
      "Sigma-square ML     :       0.000                Akaike info criterion : -686059.849\n",
      "S.E of regression ML:      0.0005                Schwarz criterion     : -685926.147\n",
      "\n",
      "------------------------------------------------------------------------------------\n",
      "            Variable     Coefficient       Std.Error     t-Statistic     Probability\n",
      "------------------------------------------------------------------------------------\n",
      "            CONSTANT       0.0002050       0.0000021      96.9806394       0.0000000\n",
      "                 ATM       0.0003311       0.0000209      15.8307919       0.0000000\n",
      "                 Bus       0.0001656       0.0000071      23.4401166       0.0000000\n",
      "          Conv_Store       0.0001164       0.0000129       8.9871665       0.0000000\n",
      "               생활서비스       0.0001044       0.0000025      42.1422973       0.0000000\n",
      "                  소매       0.0000028       0.0000007       3.9231115       0.0000875\n",
      "               학문/교육      -0.0000157       0.0000031      -5.0156645       0.0000005\n",
      "                  음식       0.0000446       0.0000014      32.5982076       0.0000000\n",
      "            관광/여가/오락       0.0000445       0.0000083       5.3540948       0.0000001\n",
      "                 부동산       0.0000256       0.0000067       3.7953421       0.0001476\n",
      "                 스포츠       0.0000278       0.0000134       2.0765861       0.0378444\n",
      "                  숙박       0.0002492       0.0000115      21.6086476       0.0000000\n",
      "           to_in_001      -0.0000061       0.0000017      -3.6971064       0.0002183\n",
      "           to_in_007       0.0000063       0.0000017       3.8028078       0.0001432\n",
      "           to_in_008       0.0000102       0.0000017       6.0894856       0.0000000\n",
      "------------------------------------------------------------------------------------\n",
      "\n",
      "REGRESSION DIAGNOSTICS\n",
      "MULTICOLLINEARITY CONDITION NUMBER          225.996\n",
      "\n",
      "TEST ON NORMALITY OF ERRORS\n",
      "TEST                             DF        VALUE           PROB\n",
      "Jarque-Bera                       2      181140.146           0.0000\n",
      "\n",
      "DIAGNOSTICS FOR HETEROSKEDASTICITY\n",
      "RANDOM COEFFICIENTS\n",
      "TEST                             DF        VALUE           PROB\n",
      "Breusch-Pagan test               14       41089.035           0.0000\n",
      "Koenker-Bassett test             14        8179.368           0.0000\n",
      "\n",
      "DIAGNOSTICS FOR SPATIAL DEPENDENCE\n",
      "TEST                           MI/DF       VALUE           PROB\n",
      "Lagrange Multiplier (lag)         1       39947.353           0.0000\n",
      "Robust LM (lag)                   1        7798.825           0.0000\n",
      "Lagrange Multiplier (error)       1       32486.474           0.0000\n",
      "Robust LM (error)                 1         337.946           0.0000\n",
      "Lagrange Multiplier (SARMA)       2       40285.299           0.0000\n",
      "\n",
      "================================ END OF REPORT =====================================\n"
     ]
    }
   ],
   "source": [
    "print(spatial.summary)"
   ]
  },
  {
   "cell_type": "code",
   "execution_count": null,
   "metadata": {},
   "outputs": [],
   "source": []
  }
 ],
 "metadata": {
  "kernelspec": {
   "display_name": "spatial",
   "language": "python",
   "name": "python3"
  },
  "language_info": {
   "codemirror_mode": {
    "name": "ipython",
    "version": 3
   },
   "file_extension": ".py",
   "mimetype": "text/x-python",
   "name": "python",
   "nbconvert_exporter": "python",
   "pygments_lexer": "ipython3",
   "version": "3.8.13"
  },
  "orig_nbformat": 4,
  "vscode": {
   "interpreter": {
    "hash": "970356c564cb7e889de8bab98729c07a8b5fa078231c70c3e1e49bed73ee6f2a"
   }
  }
 },
 "nbformat": 4,
 "nbformat_minor": 2
}
