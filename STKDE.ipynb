{
 "cells": [
  {
   "cell_type": "code",
   "execution_count": 24,
   "metadata": {},
   "outputs": [],
   "source": [
    "import math, os, sys\n",
    "import numpy as np\n",
    "import pandas as pd\n",
    "import geopandas as gpd\n",
    "from datetime import datetime\n",
    "from scipy import spatial\n",
    "import densitySpaceTime.settings as sett \n",
    "import densitySpaceTime.kde as kde\n",
    "from tqdm import tqdm, trange\n",
    "from tqdm.contrib import itertools"
   ]
  },
  {
   "attachments": {},
   "cell_type": "markdown",
   "metadata": {},
   "source": [
    "# Setting\n",
    "settings.py\n",
    "\n",
    "- p1 = spatial bandwidth\n",
    "- p2 = temporal bandwidth\n",
    "- p3 = spatial resolution\n",
    "- p4 = temporal resolution\n",
    "- npts = number of input points\n",
    "- ct1 = constant term 1 for density equation\n",
    "- ct2 = constant term 2 for density equation"
   ]
  },
  {
   "cell_type": "code",
   "execution_count": 17,
   "metadata": {},
   "outputs": [],
   "source": [
    "# Initialize\n",
    "sett.init()\n",
    "\n",
    "#read parameters\n",
    "parameters = {'p1' : 1000.0, 'p2' : 24.0, 'p3' : 3.0, 'p4' : 3.0}\n",
    "\n",
    "sett.p1 = float(parameters['p1'])\t# p1 = spatial bandwidth(meter)\n",
    "sett.p2 = float(parameters['p2'])\t# p2 = temporal bandwidth(hour)\n",
    "sett.p3 = float(parameters['p3'])\t# p3 = spatial resolution\n",
    "sett.p4 = int(parameters['p4'])\t    # p4 = temporal resolution"
   ]
  },
  {
   "cell_type": "code",
   "execution_count": 18,
   "metadata": {},
   "outputs": [
    {
     "data": {
      "text/html": [
       "<div>\n",
       "<style scoped>\n",
       "    .dataframe tbody tr th:only-of-type {\n",
       "        vertical-align: middle;\n",
       "    }\n",
       "\n",
       "    .dataframe tbody tr th {\n",
       "        vertical-align: top;\n",
       "    }\n",
       "\n",
       "    .dataframe thead th {\n",
       "        text-align: right;\n",
       "    }\n",
       "</style>\n",
       "<table border=\"1\" class=\"dataframe\">\n",
       "  <thead>\n",
       "    <tr style=\"text-align: right;\">\n",
       "      <th></th>\n",
       "      <th>RECV_CPLT_DM</th>\n",
       "      <th>geometry</th>\n",
       "      <th>T</th>\n",
       "      <th>X</th>\n",
       "      <th>Y</th>\n",
       "    </tr>\n",
       "  </thead>\n",
       "  <tbody>\n",
       "    <tr>\n",
       "      <th>0</th>\n",
       "      <td>2020-01-02 09:00:00</td>\n",
       "      <td>POINT (209315.288 371437.494)</td>\n",
       "      <td>33.0</td>\n",
       "      <td>209315.288434</td>\n",
       "      <td>371437.493906</td>\n",
       "    </tr>\n",
       "    <tr>\n",
       "      <th>1</th>\n",
       "      <td>2020-01-02 09:00:00</td>\n",
       "      <td>POINT (201952.949 363622.909)</td>\n",
       "      <td>33.0</td>\n",
       "      <td>201952.948717</td>\n",
       "      <td>363622.908901</td>\n",
       "    </tr>\n",
       "    <tr>\n",
       "      <th>2</th>\n",
       "      <td>2020-01-02 10:00:00</td>\n",
       "      <td>POINT (148880.940 383353.530)</td>\n",
       "      <td>34.0</td>\n",
       "      <td>148880.940462</td>\n",
       "      <td>383353.529568</td>\n",
       "    </tr>\n",
       "  </tbody>\n",
       "</table>\n",
       "</div>"
      ],
      "text/plain": [
       "         RECV_CPLT_DM                       geometry     T              X  \\\n",
       "0 2020-01-02 09:00:00  POINT (209315.288 371437.494)  33.0  209315.288434   \n",
       "1 2020-01-02 09:00:00  POINT (201952.949 363622.909)  33.0  201952.948717   \n",
       "2 2020-01-02 10:00:00  POINT (148880.940 383353.530)  34.0  148880.940462   \n",
       "\n",
       "               Y  \n",
       "0  371437.493906  \n",
       "1  363622.908901  \n",
       "2  383353.529568  "
      ]
     },
     "execution_count": 18,
     "metadata": {},
     "output_type": "execute_result"
    }
   ],
   "source": [
    "# Load Data\n",
    "df = gpd.read_file('data/gdf_crime.gpkg')\n",
    "df = df.to_crs(epsg=5181) # 좌표계 m단위로 변경\n",
    "df = df[['RECV_CPLT_DM', 'geometry']]\n",
    "df.RECV_CPLT_DM = df.RECV_CPLT_DM.dt.to_period('H')\n",
    "df.RECV_CPLT_DM = df.RECV_CPLT_DM.dt.to_timestamp()\n",
    "\n",
    "# data에 time index 찾아 넣기(기준시점으로부터 시간)\n",
    "\n",
    "df['T'] = 0.0\n",
    "for i in range(len(df)):\n",
    "    # 2021년 1월 1일 0시 기준\n",
    "    delta = df.RECV_CPLT_DM[i] - pd.Timestamp(2020, 1, 1, 0) \n",
    "    df.iat[i, 2] = delta / pd.Timedelta(hours=1)\n",
    "\n",
    "# X, Y 좌표 추출\n",
    "df['X'] = df.geometry.x\n",
    "df['Y'] = df.geometry.y\n",
    "\n",
    "df.head(3) # ex"
   ]
  },
  {
   "cell_type": "code",
   "execution_count": 19,
   "metadata": {},
   "outputs": [],
   "source": [
    "# 각 벡터 분리\n",
    "inX = df['X']\n",
    "inY = df['Y']\n",
    "inT = df['T']\n",
    "inXY = zip(inX, inY)\n",
    "\n",
    "# X,Y 및 T의 범위(최대, 최소) 확인\n",
    "grid = gpd.read_file('data/grid.gpkg').to_crs(epsg=5181)\n",
    "xmin, ymin, xmax, ymax = grid.total_bounds\n",
    "tmin, tmax = 0.0, max(inT)"
   ]
  },
  {
   "cell_type": "code",
   "execution_count": 20,
   "metadata": {},
   "outputs": [],
   "source": [
    "# 전역변수 설정(global variables)\n",
    "sett.npts = len(df)\n",
    "sett.ct1 = 0.5 * math.pi\n",
    "sett.ct2 = pow(10.0, 5) / (sett.npts * pow(sett.p1, 2) * sett.p2)"
   ]
  },
  {
   "cell_type": "code",
   "execution_count": 21,
   "metadata": {},
   "outputs": [],
   "source": [
    "# STKDE 연산\n",
    "\n",
    "xminDiff = xmin%sett.p3\n",
    "xmaxDiff = xmax%sett.p3\n",
    "yminDiff = ymin%sett.p3\n",
    "ymaxDiff = ymax%sett.p3\n",
    "tminDiff = tmin%sett.p4\n",
    "tmaxDiff = tmax%sett.p4\n",
    "\n",
    "xminP = xmin - xminDiff + sett.p3\n",
    "xmaxP = xmax - xmaxDiff + sett.p3\n",
    "yminP = ymin - yminDiff + sett.p3\n",
    "ymaxP = ymax - ymaxDiff + sett.p3\n",
    "tminP = tmin - tminDiff + sett.p4\n",
    "tmaxP = tmax - tmaxDiff + sett.p4"
   ]
  },
  {
   "cell_type": "code",
   "execution_count": null,
   "metadata": {},
   "outputs": [],
   "source": [
    "from tqdm import trange\n",
    "np.arange()"
   ]
  },
  {
   "cell_type": "code",
   "execution_count": 15,
   "metadata": {},
   "outputs": [
    {
     "name": "stderr",
     "output_type": "stream",
     "text": [
      "  1%|▏         | 920/63000 [00:34<39:08, 26.43it/s]  \n"
     ]
    },
    {
     "ename": "KeyboardInterrupt",
     "evalue": "",
     "output_type": "error",
     "traceback": [
      "\u001b[0;31m---------------------------------------------------------------------------\u001b[0m",
      "\u001b[0;31mKeyboardInterrupt\u001b[0m                         Traceback (most recent call last)",
      "\u001b[1;32m/Users/dangchan/Desktop/Github/LocalSecurity_competition/STKDE.ipynb 셀 9\u001b[0m in \u001b[0;36m<cell line: 4>\u001b[0;34m()\u001b[0m\n\u001b[1;32m      <a href='vscode-notebook-cell:/Users/dangchan/Desktop/Github/LocalSecurity_competition/STKDE.ipynb#X54sZmlsZQ%3D%3D?line=3'>4</a>\u001b[0m \u001b[39mfor\u001b[39;00m i \u001b[39min\u001b[39;00m tqdm(np\u001b[39m.\u001b[39marange(\u001b[39mint\u001b[39m(xminP),\u001b[39mint\u001b[39m(xmaxP),sett\u001b[39m.\u001b[39mp3)):\n\u001b[1;32m      <a href='vscode-notebook-cell:/Users/dangchan/Desktop/Github/LocalSecurity_competition/STKDE.ipynb#X54sZmlsZQ%3D%3D?line=4'>5</a>\u001b[0m     \u001b[39mfor\u001b[39;00m j \u001b[39min\u001b[39;00m tqdm(np\u001b[39m.\u001b[39marange(\u001b[39mint\u001b[39m(yminP),\u001b[39mint\u001b[39m(ymaxP),sett\u001b[39m.\u001b[39mp3), leave\u001b[39m=\u001b[39m\u001b[39mFalse\u001b[39;00m):\n\u001b[0;32m----> <a href='vscode-notebook-cell:/Users/dangchan/Desktop/Github/LocalSecurity_competition/STKDE.ipynb#X54sZmlsZQ%3D%3D?line=5'>6</a>\u001b[0m         xyGrid\u001b[39m.\u001b[39mappend([i,j])\n\u001b[1;32m      <a href='vscode-notebook-cell:/Users/dangchan/Desktop/Github/LocalSecurity_competition/STKDE.ipynb#X54sZmlsZQ%3D%3D?line=6'>7</a>\u001b[0m tGrid \u001b[39m=\u001b[39m []\n\u001b[1;32m      <a href='vscode-notebook-cell:/Users/dangchan/Desktop/Github/LocalSecurity_competition/STKDE.ipynb#X54sZmlsZQ%3D%3D?line=7'>8</a>\u001b[0m \u001b[39mfor\u001b[39;00m k \u001b[39min\u001b[39;00m \u001b[39mrange\u001b[39m(\u001b[39mint\u001b[39m(tminP),\u001b[39mint\u001b[39m(tmaxP),sett\u001b[39m.\u001b[39mp4):\n",
      "\u001b[0;31mKeyboardInterrupt\u001b[0m: "
     ]
    }
   ],
   "source": [
    "# grids\n",
    "\n",
    "xyGrid = []\n",
    "for i, j in itertools.product(np.arange(int(xminP),int(xmaxP),sett.p3), np.arange(int(yminP),int(ymaxP),sett.p3)):\n",
    "    xyGrid.append([i,j])\n",
    "\n",
    "tGrid = []\n",
    "for k in tqdm(range(int(tminP),int(tmaxP),sett.p4)):\n",
    "    tGrid.append([k])"
   ]
  },
  {
   "cell_type": "code",
   "execution_count": null,
   "metadata": {},
   "outputs": [],
   "source": [
    "#build trees\n",
    "stree = spatial.cKDTree(inXY)\n",
    "ttree = spatial.cKDTree(inT)"
   ]
  }
 ],
 "metadata": {
  "kernelspec": {
   "display_name": "spatial",
   "language": "python",
   "name": "python3"
  },
  "language_info": {
   "codemirror_mode": {
    "name": "ipython",
    "version": 3
   },
   "file_extension": ".py",
   "mimetype": "text/x-python",
   "name": "python",
   "nbconvert_exporter": "python",
   "pygments_lexer": "ipython3",
   "version": "3.8.13"
  },
  "orig_nbformat": 4,
  "vscode": {
   "interpreter": {
    "hash": "970356c564cb7e889de8bab98729c07a8b5fa078231c70c3e1e49bed73ee6f2a"
   }
  }
 },
 "nbformat": 4,
 "nbformat_minor": 2
}
