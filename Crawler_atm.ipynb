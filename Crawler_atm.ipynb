{
 "cells": [
  {
   "cell_type": "markdown",
   "metadata": {},
   "source": [
    "# Crawler for ATM location Data"
   ]
  },
  {
   "cell_type": "code",
   "execution_count": 172,
   "metadata": {},
   "outputs": [],
   "source": [
    "import pandas as pd\n",
    "from selenium import webdriver\n",
    "from selenium.webdriver.common.keys import Keys\n",
    "from selenium.webdriver.common.by import By\n",
    "from selenium.webdriver.support import expected_conditions as EC\n",
    "from selenium.webdriver.support.ui import WebDriverWait\n",
    "from selenium.webdriver.chrome.options import Options\n",
    "import time\n",
    "from bs4 import BeautifulSoup"
   ]
  },
  {
   "cell_type": "code",
   "execution_count": 173,
   "metadata": {},
   "outputs": [],
   "source": [
    "keywords = ['충청남도 현금인출기', '대전광역시 현금인출기', '세종특별자치시 현금인출기']\n",
    "options = Options()\n",
    "options.add_argument('headless') #headless모드 브라우저가 뜨지 않고 실행됩니다."
   ]
  },
  {
   "cell_type": "code",
   "execution_count": 171,
   "metadata": {},
   "outputs": [],
   "source": [
    "def crawl(keyword) : \n",
    "    # Driver execute\n",
    "    driver = webdriver.Chrome('/Users/dangchan/Documents/chromedriver')\n",
    "    driver.get(\"https://map.naver.com/v5/search\")\n",
    "    try:\n",
    "        element = WebDriverWait(driver, 10).until(\n",
    "        EC.presence_of_element_located((By.XPATH, \"/html/body/app/layout/dynamic-content-outlet/promotion-popup/div/button\"))\n",
    "    ) #입력창이 뜰 때까지 대기\n",
    "    finally:\n",
    "        pass\n",
    "\n",
    "    # popup close\n",
    "    driver.find_element(by=By.XPATH, value= \"/html/body/app/layout/dynamic-content-outlet/promotion-popup/div/button\").click()\n",
    "\n",
    "    # search box\n",
    "    search_box = driver.find_element(by=By.CSS_SELECTOR, value=\"div.input_box>input.input_search\")\n",
    "    search_box.send_keys(\"충청남도 현금지급기\") # 검색어 여기서 설정\n",
    "    time.sleep(2)\n",
    "    search_box.send_keys(Keys.ENTER)\n",
    "    WebDriverWait(driver, 5).until(EC.presence_of_all_elements_located((By.CSS_SELECTOR, 'iframe#searchIframe')))\n",
    "\n",
    "    # Iframe Switch\n",
    "    frame = driver.find_element(by=By.CSS_SELECTOR, value=\"iframe#searchIframe\")\n",
    "\n",
    "    driver.switch_to.frame(frame)\n",
    "\n",
    "    scroll_div = driver.find_element(By.XPATH, \"/html/body/div[3]/div/div[2]/div[1]\")\n",
    "\n",
    "    # Scroll bar > 전체내용 표시되게끔\n",
    "    driver.execute_script(\"arguments[0].scrollBy(0,2000)\", scroll_div)\n",
    "    time.sleep(1)\n",
    "    driver.execute_script(\"arguments[0].scrollBy(0,2000);\", scroll_div)\n",
    "    time.sleep(1)\n",
    "    driver.execute_script(\"arguments[0].scrollBy(0,2000);\", scroll_div)\n",
    "    time.sleep(1)\n",
    "    driver.execute_script(\"arguments[0].scrollBy(0,2000);\", scroll_div)\n",
    "    time.sleep(1)\n",
    "    driver.execute_script(\"arguments[0].scrollBy(0,2000);\", scroll_div)\n",
    "    time.sleep(1)\n",
    "\n",
    "    result = []\n",
    "    page = 1\n",
    "\n",
    "    while True:\n",
    "        stores_box = driver.find_element(By.XPATH,\"/html/body/div[3]/div/div[2]/div[1]/ul\")\n",
    "        stores = stores_box.find_elements(By.CSS_SELECTOR, 'div.ouxiq.icT4K')\n",
    "    \n",
    "        for i,s in enumerate(stores):\n",
    "            name = s.find_element(By.CSS_SELECTOR, 'span.place_bluelink.YwYLL').text\n",
    "            expand = s.find_element(By.CSS_SELECTOR, 'span.JXQZb')\n",
    "            expand.click()\n",
    "            time.sleep(0.5)\n",
    "            address = s.find_element(By.CSS_SELECTOR, 'div.o8CtQ').text[3:-2]\n",
    "            result.append([name, address])\n",
    "\n",
    "        page += 1\n",
    "\n",
    "        try:\n",
    "            next_button = driver.find_element(By.LINK_TEXT, str(page))\n",
    "            next_button.click()\n",
    "            time.sleep(5)\n",
    "        except:\n",
    "\n",
    "            break\n",
    "\n",
    "    driver.close()\n",
    "\n",
    "    # 저장\n",
    "    result = pd.DataFrame(result, columns = ['NAME', 'ADD'])\n",
    "    result.to_csv(f'data/{keyword}.csv', index=False)"
   ]
  },
  {
   "cell_type": "code",
   "execution_count": null,
   "metadata": {},
   "outputs": [],
   "source": [
    "for keyword in keywords:\n",
    "    crawl(keyword=keyword)\n",
    "    print(f'Crawling finished : {keyword}')"
   ]
  }
 ],
 "metadata": {
  "kernelspec": {
   "display_name": "Python 3.8.13 ('EDA')",
   "language": "python",
   "name": "python3"
  },
  "language_info": {
   "codemirror_mode": {
    "name": "ipython",
    "version": 3
   },
   "file_extension": ".py",
   "mimetype": "text/x-python",
   "name": "python",
   "nbconvert_exporter": "python",
   "pygments_lexer": "ipython3",
   "version": "3.8.13"
  },
  "orig_nbformat": 4,
  "vscode": {
   "interpreter": {
    "hash": "61e02a7c2f76f27c0b2594f0e2f995cca25b4e31816ef7b337faf31aea223d24"
   }
  }
 },
 "nbformat": 4,
 "nbformat_minor": 2
}
