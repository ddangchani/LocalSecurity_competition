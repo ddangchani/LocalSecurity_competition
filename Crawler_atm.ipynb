{
 "cells": [
  {
   "cell_type": "code",
   "execution_count": 10,
   "metadata": {},
   "outputs": [],
   "source": [
    "from selenium import webdriver\n",
    "from selenium.webdriver.common.keys import Keys\n",
    "from selenium.webdriver.common.by import By\n",
    "import time\n",
    "from bs4 import BeautifulSoup"
   ]
  },
  {
   "cell_type": "code",
   "execution_count": 33,
   "metadata": {},
   "outputs": [
    {
     "name": "stderr",
     "output_type": "stream",
     "text": [
      "/var/folders/6r/ndnspf4n6n7_m8rb9bs7qdvr0000gp/T/ipykernel_14602/3288361001.py:2: DeprecationWarning: executable_path has been deprecated, please pass in a Service object\n",
      "  driver = webdriver.Chrome('/Users/dangchan/Documents/chromedriver')\n"
     ]
    }
   ],
   "source": [
    "# Driver execute\n",
    "driver = webdriver.Chrome('/Users/dangchan/Documents/chromedriver')\n",
    "driver.get(\"https://map.naver.com/v5/search\")\n",
    "time.sleep(2)\n",
    "\n",
    "# popup close\n",
    "driver.find_element(by=By.XPATH, value= \"/html/body/app/layout/dynamic-content-outlet/promotion-popup/div/button\").click()"
   ]
  },
  {
   "cell_type": "code",
   "execution_count": 41,
   "metadata": {},
   "outputs": [],
   "source": [
    "# search box\n",
    "search_box = driver.find_element(by=By.CSS_SELECTOR, value=\"div.input_box>input.input_search\")\n",
    "search_box.send_keys(\"대전광역시 ATM\")\n",
    "time.sleep(2)\n",
    "search_box.send_keys(Keys.ENTER)\n",
    "time.sleep(2)"
   ]
  },
  {
   "cell_type": "code",
   "execution_count": null,
   "metadata": {},
   "outputs": [],
   "source": [
    "for p in range(20):\n",
    "    # 5초 delay\n",
    "    time.sleep(2)\n",
    "    \n",
    "    js_script = \"document.querySelector(\\\"body > app > layout > div > div.container > div.router-output > \"\\\n",
    "                \"shrinkable-layout > search-layout > search-list > search-list-contents > perfect-scrollbar\\\").innerHTML\"\n",
    "    raw = driver.execute_script(\"return \" + js_script)\n",
    "\n",
    "    html = BeautifulSoup(raw, \"html.parser\")\n",
    "\n",
    "    contents = html.select(\"div > div.ps-content > div > div > div .item_search\")\n",
    "    for s in contents:\n",
    "        search_box_html = s.select_one(\".search_box\")\n",
    "\n",
    "        name = search_box_html.select_one(\".title_box .search_title .search_title_text\").text\n",
    "        print(\"식당명: \" + name)\n",
    "        try:\n",
    "            phone = search_box_html.select_one(\".search_text_box .phone\").text\n",
    "        except:\n",
    "            phone = \"NULL\"\n",
    "        print(\"전화번호: \" + phone)\n",
    "        address = search_box_html.select_one(\".ng-star-inserted .address\").text\n",
    "        print(\"주소: \" + address)\n",
    "\n",
    "        print(\"--\"*30)\n",
    "    # 다음 페이지로 이동\n",
    "    try:\n",
    "        next_btn = driver.find_element_by_css_selector(\"button.btn_next\")\n",
    "        next_btn.click()\n",
    "    except:\n",
    "        print(\"데이터 수집 완료\")\n",
    "        break\n",
    "\n",
    "# 크롭 웹페이지를 닫음\n",
    "driver.close()"
   ]
  }
 ],
 "metadata": {
  "kernelspec": {
   "display_name": "Python 3.8.13 ('EDA')",
   "language": "python",
   "name": "python3"
  },
  "language_info": {
   "codemirror_mode": {
    "name": "ipython",
    "version": 3
   },
   "file_extension": ".py",
   "mimetype": "text/x-python",
   "name": "python",
   "nbconvert_exporter": "python",
   "pygments_lexer": "ipython3",
   "version": "3.8.13"
  },
  "orig_nbformat": 4,
  "vscode": {
   "interpreter": {
    "hash": "61e02a7c2f76f27c0b2594f0e2f995cca25b4e31816ef7b337faf31aea223d24"
   }
  }
 },
 "nbformat": 4,
 "nbformat_minor": 2
}
