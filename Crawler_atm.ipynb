{
 "cells": [
  {
   "cell_type": "markdown",
   "metadata": {},
   "source": [
    "# Crawler for ATM location Data"
   ]
  },
  {
   "cell_type": "code",
   "execution_count": 23,
   "metadata": {},
   "outputs": [],
   "source": [
    "from selenium import webdriver\n",
    "from selenium.webdriver.common.keys import Keys\n",
    "from selenium.webdriver.common.by import By\n",
    "from selenium.webdriver.support import expected_conditions as EC\n",
    "from selenium.webdriver.support.ui import WebDriverWait\n",
    "import time\n",
    "from bs4 import BeautifulSoup\n",
    "import csv\n",
    "import pandas"
   ]
  },
  {
   "cell_type": "code",
   "execution_count": 19,
   "metadata": {},
   "outputs": [
    {
     "name": "stderr",
     "output_type": "stream",
     "text": [
      "/var/folders/6r/ndnspf4n6n7_m8rb9bs7qdvr0000gp/T/ipykernel_28086/4120535932.py:2: DeprecationWarning: executable_path has been deprecated, please pass in a Service object\n",
      "  driver = webdriver.Chrome('/Users/dangchan/Documents/chromedriver')\n"
     ]
    }
   ],
   "source": [
    "# Driver execute\n",
    "driver = webdriver.Chrome('/Users/dangchan/Documents/chromedriver')\n",
    "driver.get(\"https://map.naver.com/v5/search\")\n",
    "try:\n",
    "   element = WebDriverWait(driver, 10).until(\n",
    "       EC.presence_of_element_located((By.XPATH, \"/html/body/app/layout/dynamic-content-outlet/promotion-popup/div/button\"))\n",
    "   ) #입력창이 뜰 때까지 대기\n",
    "finally:\n",
    "   pass\n",
    "\n",
    "# popup close\n",
    "driver.find_element(by=By.XPATH, value= \"/html/body/app/layout/dynamic-content-outlet/promotion-popup/div/button\").click()\n",
    "\n",
    "# search box\n",
    "search_box = driver.find_element(by=By.CSS_SELECTOR, value=\"div.input_box>input.input_search\")\n",
    "search_box.send_keys(\"대전광역시 ATM\")\n",
    "time.sleep(2)\n",
    "search_box.send_keys(Keys.ENTER)\n",
    "time.sleep(5)\n",
    "\n",
    "# Iframe Switch\n",
    "frame = driver.find_element(by=By.CSS_SELECTOR, value=\"iframe#searchIframe\")\n",
    "\n",
    "driver.switch_to.frame(frame)"
   ]
  },
  {
   "cell_type": "code",
   "execution_count": 21,
   "metadata": {},
   "outputs": [],
   "source": [
    "scroll_div = driver.find_element(By.XPATH, \"/html/body/div[3]/div/div[2]/div[1]\")\n",
    "\n",
    "# Scroll bar > 전체내용 표시되게끔\n",
    "driver.execute_script(\"arguments[0].scrollBy(0,2000)\", scroll_div)\n",
    "time.sleep(2)\n",
    "driver.execute_script(\"arguments[0].scrollBy(0,2000);\", scroll_div)\n",
    "time.sleep(2)\n",
    "driver.execute_script(\"arguments[0].scrollBy(0,2000);\", scroll_div)\n",
    "time.sleep(2)\n",
    "driver.execute_script(\"arguments[0].scrollBy(0,2000);\", scroll_div)\n",
    "time.sleep(2)\n",
    "driver.execute_script(\"arguments[0].scrollBy(0,2000);\", scroll_div)\n",
    "time.sleep(2)"
   ]
  },
  {
   "cell_type": "code",
   "execution_count": null,
   "metadata": {},
   "outputs": [],
   "source": [
    "# Crawling\n",
    "\n",
    "result = []\n"
   ]
  }
 ],
 "metadata": {
  "kernelspec": {
   "display_name": "Python 3.8.13 ('EDA')",
   "language": "python",
   "name": "python3"
  },
  "language_info": {
   "codemirror_mode": {
    "name": "ipython",
    "version": 3
   },
   "file_extension": ".py",
   "mimetype": "text/x-python",
   "name": "python",
   "nbconvert_exporter": "python",
   "pygments_lexer": "ipython3",
   "version": "3.8.13"
  },
  "orig_nbformat": 4,
  "vscode": {
   "interpreter": {
    "hash": "61e02a7c2f76f27c0b2594f0e2f995cca25b4e31816ef7b337faf31aea223d24"
   }
  }
 },
 "nbformat": 4,
 "nbformat_minor": 2
}
